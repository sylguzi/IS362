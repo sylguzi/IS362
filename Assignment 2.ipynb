{
 "cells": [
  {
   "cell_type": "markdown",
   "metadata": {},
   "source": [
    "**Things I feel might be difficult**"
   ]
  },
  {
   "cell_type": "markdown",
   "metadata": {},
   "source": [
    "# zip()"
   ]
  },
  {
   "cell_type": "markdown",
   "metadata": {},
   "source": [
    "The zip function transforms multiple lists into a single list of tuples, and stops as soon as the shortest list ends. I will explore different ways of approaching the zip function and experiment with the results it can yield. \n",
    "\n",
    "I will first provide the test code, then the results it spits out, and lastly I'll give a small comment about what happened in the code above it."
   ]
  },
  {
   "cell_type": "code",
   "execution_count": 12,
   "metadata": {
    "scrolled": true
   },
   "outputs": [
    {
     "name": "stdout",
     "output_type": "stream",
     "text": [
      "one i 5\n",
      "two declare 6\n"
     ]
    }
   ],
   "source": [
    "list1 = ['one', 'two', 'three', 'four']\n",
    "list2 = ['i', 'declare', 'thumb', 'war']\n",
    "list3 = [5, 6]\n",
    "\n",
    "for i, (a, b, c) in enumerate(zip(list1, list2, list3)):\n",
    "    print (a, b, c)\n",
    "\n"
   ]
  },
  {
   "cell_type": "markdown",
   "metadata": {},
   "source": [
    "The first two lists contain four values each. However, the third list only contains two. The zip function sees that when we enumerate through the three lists, the last list can only match up with two function, and as such when it gets printed, it only prints the first two."
   ]
  },
  {
   "cell_type": "code",
   "execution_count": 13,
   "metadata": {},
   "outputs": [
    {
     "data": {
      "text/plain": [
       "<zip at 0x169550b6848>"
      ]
     },
     "execution_count": 13,
     "metadata": {},
     "output_type": "execute_result"
    }
   ],
   "source": [
    "list1 = ['one', 'two', 'three', 'four']\n",
    "list2 = ['i', 'declare', 'thumb', 'war']\n",
    "list3 = [5, 6]\n",
    "\n",
    "zip(list1, list2, list3)\n"
   ]
  },
  {
   "cell_type": "markdown",
   "metadata": {},
   "source": [
    "This does **not** yield what we want because zip is a generator and creates the values only one time. It gives us an iterator that aggregates elements from each of the iterables. This was not the case in python 2."
   ]
  },
  {
   "cell_type": "code",
   "execution_count": 16,
   "metadata": {},
   "outputs": [
    {
     "name": "stdout",
     "output_type": "stream",
     "text": [
      "<zip object at 0x00000169550B6208>\n"
     ]
    }
   ],
   "source": [
    "list1 = ['one', 'two', 'three', 'four']\n",
    "list2 = ['i', 'declare', 'thumb', 'war']\n",
    "list3 = [5, 6]\n",
    "\n",
    "test = zip(list1, list2, list3)\n",
    "print (test)\n"
   ]
  },
  {
   "cell_type": "markdown",
   "metadata": {},
   "source": [
    "This does **not** yield what we want either because simply storing it does not. we need to try something else. "
   ]
  },
  {
   "cell_type": "code",
   "execution_count": 17,
   "metadata": {},
   "outputs": [
    {
     "name": "stdout",
     "output_type": "stream",
     "text": [
      "[('one', 'i', 5), ('two', 'declare', 6)]\n"
     ]
    }
   ],
   "source": [
    "list1 = ['one', 'two', 'three', 'four']\n",
    "list2 = ['i', 'declare', 'thumb', 'war']\n",
    "list3 = [5, 6]\n",
    "\n",
    "test2 = list(zip(list1, list2, list3))\n",
    "print (test2)\n",
    "\n"
   ]
  },
  {
   "cell_type": "markdown",
   "metadata": {},
   "source": [
    "The above is what we're looking for! We need to store it in a variable, and tag a list function at the beginning in order to print out what we want to see."
   ]
  }
 ],
 "metadata": {
  "kernelspec": {
   "display_name": "Python 3",
   "language": "python",
   "name": "python3"
  },
  "language_info": {
   "codemirror_mode": {
    "name": "ipython",
    "version": 3
   },
   "file_extension": ".py",
   "mimetype": "text/x-python",
   "name": "python",
   "nbconvert_exporter": "python",
   "pygments_lexer": "ipython3",
   "version": "3.6.3"
  }
 },
 "nbformat": 4,
 "nbformat_minor": 2
}
