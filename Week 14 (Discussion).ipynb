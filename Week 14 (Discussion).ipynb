{
 "cells": [
  {
   "cell_type": "markdown",
   "metadata": {},
   "source": [
    "Recommendation systems are an incredibly powerful tool. We once had people/merhcants perform this very same job, where they'd listen to what their customers would recommend, what they'd buy, and compare it to other customers. It had become a network that everyone relied on to make a slightly better profit, and to get hold of the products they sought. I'm going to be taking a gander at Amazon's take on the matter, as they're absolutely fascinating in every regard. They've been growing for two decades now, and have been perfecting their craft the entire time. Their customer base is enormous, and what they've created proves to be a steady system. "
   ]
  },
  {
   "cell_type": "markdown",
   "metadata": {},
   "source": [
    "According to computer.org, it was first user-based - the algorithm would search across others who had similar purchasing patterns, then check what items those users (that it found) hadn't found. Today, it finds related items (items often bought together) in each catalog, and from that table, it generates recommendations, combines them  based on interest, filter out what's been seen or purchased, and display the remaining items. \n",
    "These are very valuable, especially if given copious amounts of data, and allow for each user at Amazon to view the website as their own personal 'store'. The recommendations are updated live as the person continues their search for the perfect product. Defining 'related' items, in the end, is nothing but a series of statistical equations which try to filter out the \"noise\" that we humans create in our searches. "
   ]
  },
  {
   "cell_type": "markdown",
   "metadata": {},
   "source": [
    "The target users are people that make, or can potentially make a purchase on Amazon.com. The users search and brows content, and it gets noted in their history. Amazon then uses item-to-item collaborative history, and pools together what items the separate users bought, and that creates a basic similar items recommendation. The end result is what we see on Amazon's website today. The article that Professor suggested we read contains a basic iterative algorithm: "
   ]
  },
  {
   "cell_type": "code",
   "execution_count": null,
   "metadata": {},
   "outputs": [],
   "source": [
    "For each item in product catalog, I1\n",
    "    For each customer C who purchased I1\n",
    "        For each item I2 purchased by\n",
    "            customer C\n",
    "        Record that a customer purchased I1\n",
    "            and I2\n",
    "    For each item I2\n",
    "        Compute the similarity between I1 and I2"
   ]
  },
  {
   "cell_type": "markdown",
   "metadata": {},
   "source": [
    "Which makes it easy to see how similar items are noted together, and how it can become effectively scalable over time. \n",
    "Our target users' goals are to (likely) find the product they want (or in my family's case - something better, hopefully cheaper), find something that is similar to that of what the item we're looking for, and to make impulse buys that could go hand in hand with the initial purchase the buyer was going after. Perhaps the customer wanted to find lotion, and browsed a selection of different textures, scents, and brands. At checkout, she spots a face tonic - some rose water - and figures it's something that could go hand in hand with her new lotion - and ends up purchasing it on the fly.\n",
    "That said, over time, these recommendations won't remain the same, and that leads us to the third question. To help accomplish these goals, Amazon needs to keep in mind what each person buys. Now, not everyone's going to be happy about amazon recording their search/purchase history, but majority can and will find it to be useful. If you have a newborn, and are searching for diapers, teething items, and baby toys, you're not going to need them (hopefully) in five years. As such, these needs will change, and Amazon's algorithm's job is to take note of that. "
   ]
  },
  {
   "cell_type": "markdown",
   "metadata": {},
   "source": [
    "Overall, Amazon's very effective in its search and recommendation system. Personally, I adore it; it's great for finding new teas to sip on, and the prices won't make your jaw drop. It's all thanks to Amazon keeping track of my habits, and catering to what I like, making it truly a store that's been customized to my needs. It truly feels magical at some points."
   ]
  }
 ],
 "metadata": {
  "kernelspec": {
   "display_name": "Python 2",
   "language": "python",
   "name": "python2"
  },
  "language_info": {
   "codemirror_mode": {
    "name": "ipython",
    "version": 2
   },
   "file_extension": ".py",
   "mimetype": "text/x-python",
   "name": "python",
   "nbconvert_exporter": "python",
   "pygments_lexer": "ipython2",
   "version": "2.7.14"
  }
 },
 "nbformat": 4,
 "nbformat_minor": 2
}
