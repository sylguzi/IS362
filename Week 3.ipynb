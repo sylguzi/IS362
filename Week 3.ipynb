{
 "cells": [
  {
   "cell_type": "markdown",
   "metadata": {},
   "source": [
    "## Pandas, Python, and Numpy\n"
   ]
  },
  {
   "cell_type": "code",
   "execution_count": 2,
   "metadata": {
    "collapsed": true
   },
   "outputs": [],
   "source": [
    "import numpy as np\n",
    "import pandas as pd"
   ]
  },
  {
   "cell_type": "markdown",
   "metadata": {},
   "source": [
    "Entering some number of miles biked into the miles series so I can test if what's spat back out makes sense.\n",
    "\n",
    "The below accumulates all the miles, and would continue to accumulate if there were more values and days all the way until Key West, Florida.\n",
    "\n",
    "\"Your task is to create a pandas Series object that holds the cumulative miles at the end of each day\""
   ]
  },
  {
   "cell_type": "markdown",
   "metadata": {},
   "source": [
    "The below accumulates everything with each oncoming day."
   ]
  },
  {
   "cell_type": "code",
   "execution_count": 42,
   "metadata": {},
   "outputs": [
    {
     "name": "stdout",
     "output_type": "stream",
     "text": [
      "day1     55\n",
      "day2    120\n",
      "day3    170\n",
      "day4    215\n",
      "day5    250\n",
      "day6    310\n",
      "dtype: int64\n"
     ]
    }
   ],
   "source": [
    "miles = pd.Series([55, 65, 50, 45, 35, 60], index=['day1', 'day2', 'day3', 'day4', 'day5', 'day6'])\n",
    "total = (miles.cumsum())\n",
    "print (total)"
   ]
  },
  {
   "cell_type": "markdown",
   "metadata": {},
   "source": [
    "The next part should \"use your Python skills to show the total miles that you rode each day\", so a for loop that iterates over what we have above should be sufficient. "
   ]
  },
  {
   "cell_type": "code",
   "execution_count": 66,
   "metadata": {},
   "outputs": [
    {
     "name": "stdout",
     "output_type": "stream",
     "text": [
      "Day 0 55\n",
      "Day 1 65\n",
      "Day 2 50\n",
      "Day 3 45\n",
      "Day 4 35\n",
      "Day 5 60\n"
     ]
    }
   ],
   "source": [
    "day = \"Day\"\n",
    "miles2 = pd.Series([55, 65, 50, 45, 35, 60])\n",
    "total2 = (miles2.cumsum())\n",
    "\n",
    "for key, value in total2.iteritems():\n",
    "    if (key>0):\n",
    "        subbed = value - total[key-1]\n",
    "    else:\n",
    "        subbed = value\n",
    "    print (day, key, subbed)\n"
   ]
  },
  {
   "cell_type": "markdown",
   "metadata": {},
   "source": [
    "Can also do this, but it's not as pretty, and can't be manipulated as easily as the above one."
   ]
  },
  {
   "cell_type": "code",
   "execution_count": 53,
   "metadata": {},
   "outputs": [
    {
     "name": "stdout",
     "output_type": "stream",
     "text": [
      "day1 55\n",
      "day2 65\n",
      "day3 50\n",
      "day4 45\n",
      "day5 35\n",
      "day6 60\n"
     ]
    }
   ],
   "source": [
    "for key, value in total.iteritems():\n",
    "    number = miles[key]\n",
    "    print (key, number)   \n",
    "   # print (key, value)"
   ]
  },
  {
   "cell_type": "markdown",
   "metadata": {},
   "source": [
    "The below attempt could be a potential extra solution that I came up with while doing research on how numpy works. Series.diff() works something like the opposite of cumsum, and wasn't covered in chapter 4 of Learning Pandas. I thought I'd include it, as it's an interesting take on what we could do, but I'm not really sure how we could apply it, though."
   ]
  },
  {
   "cell_type": "code",
   "execution_count": 46,
   "metadata": {
    "scrolled": true
   },
   "outputs": [
    {
     "data": {
      "text/plain": [
       "day1     NaN\n",
       "day2    65.0\n",
       "day3    50.0\n",
       "day4    45.0\n",
       "day5    35.0\n",
       "day6    60.0\n",
       "dtype: float64"
      ]
     },
     "execution_count": 46,
     "metadata": {},
     "output_type": "execute_result"
    }
   ],
   "source": [
    "total.diff()\n"
   ]
  }
 ],
 "metadata": {
  "kernelspec": {
   "display_name": "Python 3",
   "language": "python",
   "name": "python3"
  },
  "language_info": {
   "codemirror_mode": {
    "name": "ipython",
    "version": 3
   },
   "file_extension": ".py",
   "mimetype": "text/x-python",
   "name": "python",
   "nbconvert_exporter": "python",
   "pygments_lexer": "ipython3",
   "version": "3.6.3"
  }
 },
 "nbformat": 4,
 "nbformat_minor": 2
}
