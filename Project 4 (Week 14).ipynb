{
 "cells": [
  {
   "cell_type": "markdown",
   "metadata": {},
   "source": [
    "Import necessary thingies"
   ]
  },
  {
   "cell_type": "code",
   "execution_count": 80,
   "metadata": {
    "collapsed": true
   },
   "outputs": [],
   "source": [
    "import pandas as pd\n",
    "import numpy as np\n",
    "from matplotlib import pyplot as plt\n",
    "from sklearn import datasets, linear_model\n",
    "from sklearn.metrics import mean_squared_error, r2_score\n",
    "from sklearn import metrics\n",
    "from sklearn.cross_validation import train_test_split\n",
    "from sklearn.linear_model import LinearRegression"
   ]
  },
  {
   "cell_type": "markdown",
   "metadata": {},
   "source": [
    "Recreate Data from last week"
   ]
  },
  {
   "cell_type": "code",
   "execution_count": 81,
   "metadata": {},
   "outputs": [],
   "source": [
    "mushrooms=pd.read_csv(\"C:/Users/sguzi/Desktop/Mushrooms.csv\", header=None, usecols=[0,5,20])\n",
    "df = mushrooms.copy()\n",
    "df.columns = ['poison', 'odor', 'spore_color']\n",
    "df['poison'].replace({'p':1,'e':0},inplace=True)\n",
    "df['odor'].replace({'a':0,'l':1,'c':2,'y':3,'f':4,'m':5,'n':6,'p':7,'s':8},inplace=True)\n",
    "df['spore_color'].replace({'k':0,'n':1,'b':2,'h':3,'r':4,'o':5,'u':6,'w':7,'y':8},inplace=True)\n",
    "df1 = pd.DataFrame()\n",
    "df2 = pd.DataFrame()\n",
    "df3 = pd.DataFrame()\n",
    "df1['odor_count']=df['odor'].value_counts()\n",
    "df2['poison_count']=df['poison'].value_counts() #not a column I chose, so excluding it\n",
    "df3['sc_count']=df['spore_color'].value_counts()\n",
    "df1['odor_perc']= df1['odor_count']/df1['odor_count'].sum()\n",
    "df2['poison_perc']= df2['poison_count']/df2['poison_count'].sum()\n",
    "df3['sc_perc']= df3['sc_count']/df3['sc_count'].sum()\n",
    "#df.head(10) #test if it works"
   ]
  },
  {
   "cell_type": "markdown",
   "metadata": {},
   "source": [
    "Make it all 0's and 1's, test if it works, then merge it together."
   ]
  },
  {
   "cell_type": "code",
   "execution_count": 82,
   "metadata": {},
   "outputs": [],
   "source": [
    "odor_dummies = pd.get_dummies(df['odor'])\n",
    "color_dummies = pd.get_dummies(df['spore_color'])\n",
    "###### check if it works ######\n",
    "#print(odor_dummies.head(10))  \n",
    "#print('-----------------------------')\n",
    "#print(color_dummies.head(10))"
   ]
  },
  {
   "cell_type": "markdown",
   "metadata": {},
   "source": [
    "Merge things together, increase dimension, get values for the two columns chosen, then get coeficcient, msd, variance score."
   ]
  },
  {
   "cell_type": "code",
   "execution_count": 83,
   "metadata": {},
   "outputs": [
    {
     "name": "stdout",
     "output_type": "stream",
     "text": [
      "[-0.5]\n",
      "8.875\n",
      "-34.5\n"
     ]
    }
   ],
   "source": [
    "shrooms = pd.concat([df, odor_dummies, color_dummies], axis = 1)\n",
    "#shrooms.head(10) #check if it works\n",
    "x = shrooms.values[:, np.newaxis, 2] #increase dimension +1\n",
    "x_head = x[:10]\n",
    "x_tail = x[-10:]\n",
    "y_head = shrooms.poison[:10]\n",
    "y_tail = shrooms.poison[-10:]\n",
    "\n",
    "regression = linear_model.LinearRegression()\n",
    "regression.fit(x_head, y_head)\n",
    "pred = regr.predict(x_tail)\n",
    "\n",
    "multiply_by = regression.coef_ #multiply it by this\n",
    "v_score = r2_score(y_tail, pred) #the closer to 1, the better\n",
    "msd = mean_squared_error(y_tail, pred) #mean standard deviation, closer to 0 is better (helps with best fit line)\n",
    "\n",
    "print(multiply_by)\n",
    "print(msd)\n",
    "print(v_score)"
   ]
  },
  {
   "cell_type": "code",
   "execution_count": 84,
   "metadata": {},
   "outputs": [],
   "source": [
    "##### how slicing works, because i forgot #####\n",
    "#spot for testing how this should be used in previous chunk of code\n",
    "#m = [1,2,3,4,5,6,7,8,9,10,11]\n",
    "#m[-5:] #last five "
   ]
  },
  {
   "cell_type": "code",
   "execution_count": 87,
   "metadata": {},
   "outputs": [
    {
     "data": {
      "image/png": "[encoded data removed]",
      "text/plain": [
       "<matplotlib.figure.Figure at 0x1aed4fffa90>"
      ]
     },
     "metadata": {},
     "output_type": "display_data"
    }
   ],
   "source": [
    "#odor and toxicity\n",
    "plt.scatter(x_tail, y_tail)\n",
    "plt.plot(x_tail, pred)\n",
    "plt.xticks()\n",
    "plt.yticks()\n",
    "plt.show()"
   ]
  },
  {
   "cell_type": "markdown",
   "metadata": {},
   "source": [
    "The line is tilted, and if I were to draw vertical lines throughout its length, it'd pass through only once, making it linear. Therefore, there's something going on between odor and toxicity. **Don't eat smelly mushrooms if you don't know what they are.**\n",
    "\n",
    "Next is versus spore color."
   ]
  },
  {
   "cell_type": "code",
   "execution_count": 86,
   "metadata": {},
   "outputs": [
    {
     "data": {
      "image/png": "[encoded data removed]",
      "text/plain": [
       "<matplotlib.figure.Figure at 0x1aed51b5630>"
      ]
     },
     "metadata": {},
     "output_type": "display_data"
    }
   ],
   "source": [
    "xsecond = shrooms.values[:, np.newaxis, 3]\n",
    "xsecond_head = xsecond[:10]\n",
    "xsecond_tail = xsecond[-10:]\n",
    "ysecond_head = shrooms.poison[:10]\n",
    "ysecond_tail = shrooms.poison[-10:]\n",
    "plt.scatter(xsecond_tail, ysecond_tail)\n",
    "plt.plot(xsecond_tail, pred)\n",
    "\n",
    "plt.xticks()\n",
    "plt.yticks()\n",
    "plt.show()"
   ]
  },
  {
   "cell_type": "markdown",
   "metadata": {},
   "source": [
    "This shows a perfectly straight vertical line, and if I were to draw a line through it, it would pass through it an infinite amount of times, making it not linear. This means, we don't know if spore colors can predict if we should eat mushrooms with a wide variety of spore colors unless we know exactly what they are."
   ]
  },
  {
   "cell_type": "markdown",
   "metadata": {},
   "source": [
    "Odor can tell us to a higher degree whether a mushroom can be poisonous. However, we cannot say the same for spore colors, and it would be much harder to predict if they're toxic or not. \n",
    "The best thing you can do regarding these fungi is - either study them until you know them inside out, or stick to store-bought ones; mushroom poisoning is not a friendly thing to experience."
   ]
  }
 ],
 "metadata": {
  "kernelspec": {
   "display_name": "Python 3",
   "language": "python",
   "name": "python3"
  },
  "language_info": {
   "codemirror_mode": {
    "name": "ipython",
    "version": 3
   },
   "file_extension": ".py",
   "mimetype": "text/x-python",
   "name": "python",
   "nbconvert_exporter": "python",
   "pygments_lexer": "ipython3",
   "version": "3.6.3"
  }
 },
 "nbformat": 4,
 "nbformat_minor": 2
}
